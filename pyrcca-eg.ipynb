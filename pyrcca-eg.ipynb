{
 "cells": [
  {
   "cell_type": "markdown",
   "metadata": {},
   "source": [
    "* sauce: https://towardsdatascience.com/understanding-how-schools-work-with-canonical-correlation-analysis-4c9a88c6b913\n",
    "* see also: https://online.stat.psu.edu/stat505/lesson/13/13.5"
   ]
  },
  {
   "cell_type": "code",
   "execution_count": 1,
   "metadata": {},
   "outputs": [],
   "source": [
    "%matplotlib inline\n",
    "import matplotlib.pyplot as plt\n",
    "\n",
    "import numpy as np\n",
    "import pandas as pd\n",
    "import rcca"
   ]
  },
  {
   "cell_type": "code",
   "execution_count": 4,
   "metadata": {},
   "outputs": [
    {
     "name": "stdout",
     "output_type": "stream",
     "text": [
      "(1217, 6) (1217, 2)\n"
     ]
    },
    {
     "name": "stderr",
     "output_type": "stream",
     "text": [
      "/Users/don/anaconda3/lib/python3.7/site-packages/ipykernel_launcher.py:25: SettingWithCopyWarning: \n",
      "A value is trying to be set on a copy of a slice from a DataFrame.\n",
      "Try using .loc[row_indexer,col_indexer] = value instead\n",
      "\n",
      "See the caveats in the documentation: http://pandas.pydata.org/pandas-docs/stable/user_guide/indexing.html#returning-a-view-versus-a-copy\n",
      "/Users/don/anaconda3/lib/python3.7/site-packages/ipykernel_launcher.py:26: SettingWithCopyWarning: \n",
      "A value is trying to be set on a copy of a slice from a DataFrame.\n",
      "Try using .loc[row_indexer,col_indexer] = value instead\n",
      "\n",
      "See the caveats in the documentation: http://pandas.pydata.org/pandas-docs/stable/user_guide/indexing.html#returning-a-view-versus-a-copy\n"
     ]
    }
   ],
   "source": [
    "# Load and preprocess data\n",
    "d0 = pd.read_csv(\"/Users/don/Documents/rcca/data/kaggle-nyc-schools-2016.csv\")\n",
    "d0 = d0[['Rigorous Instruction %',\n",
    "      'Collaborative Teachers %',\n",
    "     'Supportive Environment %',\n",
    "       'Effective School Leadership %',\n",
    "   'Strong Family-Community Ties %',\n",
    "    'Trust %','Average ELA Proficiency',\n",
    "       'Average Math Proficiency']]\n",
    "d0 = d0.dropna()\n",
    "\n",
    "X = d0[['Rigorous Instruction %',\n",
    "      'Collaborative Teachers %',\n",
    "     'Supportive Environment %',\n",
    "       'Effective School Leadership %',\n",
    "   'Strong Family-Community Ties %',\n",
    "    'Trust %'\n",
    "      ]]\n",
    "Y = d0[['Average ELA Proficiency',\n",
    "       'Average Math Proficiency']]\n",
    "print(X.shape, Y.shape)\n",
    "\n",
    "# Standardise the data\n",
    "for col in X.columns:\n",
    "    X[col] = X[col].str.strip('%')\n",
    "    X[col] = X[col].astype('float')\n",
    "\n",
    "from sklearn.preprocessing import StandardScaler\n",
    "sc = StandardScaler(with_mean=True, with_std=True)\n",
    "X_sc = sc.fit_transform(X)\n",
    "Y_sc = sc.fit_transform(Y)"
   ]
  },
  {
   "cell_type": "code",
   "execution_count": 5,
   "metadata": {},
   "outputs": [
    {
     "name": "stdout",
     "output_type": "stream",
     "text": [
      "Training CCA, kernel = None, regularization = 0.0000, 2 components\n",
      "Canonical Correlation Per Component Pair: [0.35586915 0.27781991]\n",
      "% Shared Variance: [0.12664285 0.0771839 ]\n"
     ]
    }
   ],
   "source": [
    "nComponents = 2 # min(p,q) components\n",
    "cca = rcca.CCA(kernelcca = False, reg = 0., numCC = nComponents,)\n",
    "# train on data\n",
    "cca.train([X, Y])\n",
    "print('Canonical Correlation Per Component Pair:',cca.cancorrs)\n",
    "print('% Shared Variance:',cca.cancorrs**2)\n"
   ]
  },
  {
   "cell_type": "markdown",
   "metadata": {},
   "source": [
    "We should take into account that it is not highly recommended to rely on weights when interpreting individual variable contribution to covariates.\n",
    "\n",
    "1. Weights are subject to variability from one sample to another.\n",
    "2. Weights can be highly affected by multicollinearity (which is quite common for same-context variable groups).\n",
    "\n",
    "Relying on canonical loadings instead is a more common practice.\n"
   ]
  },
  {
   "cell_type": "code",
   "execution_count": 7,
   "metadata": {},
   "outputs": [
    {
     "name": "stdout",
     "output_type": "stream",
     "text": [
      "(1217, 2) (1217, 2)\n"
     ]
    }
   ],
   "source": [
    "print(cca.comps[0].shape, cca.comps[1].shape)"
   ]
  },
  {
   "cell_type": "code",
   "execution_count": 8,
   "metadata": {},
   "outputs": [
    {
     "name": "stdout",
     "output_type": "stream",
     "text": [
      "(6, 2) (2, 2)\n"
     ]
    }
   ],
   "source": [
    "print(cca.ws[0].shape, cca.ws[1].shape)"
   ]
  },
  {
   "cell_type": "code",
   "execution_count": 19,
   "metadata": {},
   "outputs": [
    {
     "data": {
      "text/plain": [
       "array([[ 1.08757000e-05,  4.01439873e-07, -6.33979572e-05,\n",
       "        -2.35740771e-05,  2.80922713e-06,  7.43254691e-05],\n",
       "       [-1.55038942e-05, -1.05273559e-06,  1.23367399e-04,\n",
       "         4.59703007e-05, -4.92350392e-06, -1.36766679e-04],\n",
       "       [ 4.02405988e-06,  4.53484686e-08, -1.63724093e-05,\n",
       "        -6.06712780e-06,  8.42101422e-07,  2.08834993e-05],\n",
       "       ...,\n",
       "       [ 1.30548907e-05,  5.14044475e-07, -7.83098703e-05,\n",
       "        -2.91254606e-05,  3.43363291e-06,  9.12811047e-05],\n",
       "       [-9.31106931e-06, -7.11992367e-07,  7.95664007e-05,\n",
       "         2.96605661e-05, -3.10939911e-06, -8.72518829e-05],\n",
       "       [-1.55114561e-06, -2.67109075e-07,  2.34514375e-05,\n",
       "         8.76262339e-06, -8.01974882e-07, -2.40584687e-05]])"
      ]
     },
     "execution_count": 19,
     "metadata": {},
     "output_type": "execute_result"
    }
   ],
   "source": [
    "np.dot(cca.comps[0], np.transpose(cca.ws[0]), out=None)"
   ]
  },
  {
   "cell_type": "code",
   "execution_count": 17,
   "metadata": {},
   "outputs": [
    {
     "data": {
      "text/plain": [
       "(1217, 6)"
      ]
     },
     "execution_count": 17,
     "metadata": {},
     "output_type": "execute_result"
    }
   ],
   "source": [
    "X_sc.shape"
   ]
  },
  {
   "cell_type": "code",
   "execution_count": 28,
   "metadata": {},
   "outputs": [
    {
     "name": "stdout",
     "output_type": "stream",
     "text": [
      "Corr of CVX, Math Score: -0.9848691765940911\n",
      "Corr of CVX, ELA Score: -0.8607727908473473\n"
     ]
    }
   ],
   "source": [
    "## Canonical Loadings\n",
    "print('Corr of CVX, Math Score:',np.corrcoef(cca.comps[1][:,0],Y.values[:,0])[0,1])\n",
    "print('Corr of CVX, ELA Score:',np.corrcoef(cca.comps[1][:,0],Y.values[:,1])[0,1])\n"
   ]
  },
  {
   "cell_type": "code",
   "execution_count": 26,
   "metadata": {},
   "outputs": [
    {
     "data": {
      "text/plain": [
       "array([[ 1.,  1.,  1., ...,  1.,  1., -1.],\n",
       "       [ 1.,  1.,  1., ...,  1.,  1., -1.],\n",
       "       [ 1.,  1.,  1., ...,  1.,  1., -1.],\n",
       "       ...,\n",
       "       [ 1.,  1.,  1., ...,  1.,  1., -1.],\n",
       "       [ 1.,  1.,  1., ...,  1.,  1., -1.],\n",
       "       [-1., -1., -1., ..., -1., -1.,  1.]])"
      ]
     },
     "execution_count": 26,
     "metadata": {},
     "output_type": "execute_result"
    }
   ],
   "source": [
    "np.corrcoef(cca.comps[0], X_sc[:, :2].shape)"
   ]
  },
  {
   "cell_type": "code",
   "execution_count": 25,
   "metadata": {},
   "outputs": [
    {
     "data": {
      "text/plain": [
       "(1217, 2)"
      ]
     },
     "execution_count": 25,
     "metadata": {},
     "output_type": "execute_result"
    }
   ],
   "source": []
  },
  {
   "cell_type": "code",
   "execution_count": null,
   "metadata": {},
   "outputs": [],
   "source": [
    "## Canonical Covariates\n",
    "# CVX \n",
    "cca.comps[0]\n",
    "# First CV for X \n",
    "cca.comps[0][:,0]\n",
    "# Second CV for X\n",
    "cca.comps[0][:,1]\n",
    "\n",
    "# CVY\n",
    "cca.comps[1]\n",
    "# First CV for Y\n",
    "cca.comps[1][:,0]\n",
    "# Second CV for Y \n",
    "cca.comps[1][:,1]"
   ]
  },
  {
   "cell_type": "markdown",
   "metadata": {},
   "source": [
    "# Nutrimouse"
   ]
  },
  {
   "cell_type": "code",
   "execution_count": null,
   "metadata": {},
   "outputs": [],
   "source": [
    "X = pd.read_csv(\"./data/nutrimouse_lipids.csv\")\n",
    "Y = pd.read_csv(\"./data/nutrimouse_genes.csv\")\n",
    "\n",
    "print(X.shape, Y.shape)"
   ]
  },
  {
   "cell_type": "code",
   "execution_count": null,
   "metadata": {},
   "outputs": [],
   "source": [
    "n_comp = 10 # min(p,q) components\n",
    "cca = rcca.CCA(kernelcca = False, reg = 0.1, numCC = n_comp,)\n",
    "# train on data\n",
    "cca.train([X, Y])\n",
    "print('Canonical Correlation Per Component Pair:',cca.cancorrs)\n",
    "print('% Shared Variance:',cca.cancorrs**2)\n"
   ]
  },
  {
   "cell_type": "code",
   "execution_count": null,
   "metadata": {},
   "outputs": [],
   "source": [
    "np.corrcoef(,X.values)"
   ]
  },
  {
   "cell_type": "code",
   "execution_count": null,
   "metadata": {},
   "outputs": [],
   "source": [
    "cca.ws[0].shape"
   ]
  },
  {
   "cell_type": "code",
   "execution_count": null,
   "metadata": {},
   "outputs": [],
   "source": [
    "X.shape"
   ]
  },
  {
   "cell_type": "code",
   "execution_count": null,
   "metadata": {},
   "outputs": [],
   "source": []
  }
 ],
 "metadata": {
  "kernelspec": {
   "display_name": "Python 3",
   "language": "python",
   "name": "python3"
  },
  "language_info": {
   "codemirror_mode": {
    "name": "ipython",
    "version": 3
   },
   "file_extension": ".py",
   "mimetype": "text/x-python",
   "name": "python",
   "nbconvert_exporter": "python",
   "pygments_lexer": "ipython3",
   "version": "3.7.4"
  }
 },
 "nbformat": 4,
 "nbformat_minor": 4
}
