{
 "cells": [
  {
   "cell_type": "markdown",
   "metadata": {},
   "source": [
    "* sauce: https://towardsdatascience.com/understanding-how-schools-work-with-canonical-correlation-analysis-4c9a88c6b913\n",
    "* see also: https://online.stat.psu.edu/stat505/lesson/13/13.5"
   ]
  },
  {
   "cell_type": "code",
   "execution_count": 2,
   "metadata": {},
   "outputs": [],
   "source": [
    "import numpy as np\n",
    "import pandas as pd\n",
    "import rcca"
   ]
  },
  {
   "cell_type": "code",
   "execution_count": 3,
   "metadata": {},
   "outputs": [],
   "source": [
    "d0 = pd.read_csv(\"/Users/don/Documents/scratch/pyrcca/kaggle-nyc-schools-2016.csv\")\n",
    "d0 = d0[['Rigorous Instruction %',\n",
    "      'Collaborative Teachers %',\n",
    "     'Supportive Environment %',\n",
    "       'Effective School Leadership %',\n",
    "   'Strong Family-Community Ties %',\n",
    "    'Trust %','Average ELA Proficiency',\n",
    "       'Average Math Proficiency']]\n",
    "d0 = d0.dropna()"
   ]
  },
  {
   "cell_type": "code",
   "execution_count": 5,
   "metadata": {},
   "outputs": [
    {
     "name": "stdout",
     "output_type": "stream",
     "text": [
      "(1217, 6) (1217, 2)\n"
     ]
    }
   ],
   "source": [
    "X = d0[['Rigorous Instruction %',\n",
    "      'Collaborative Teachers %',\n",
    "     'Supportive Environment %',\n",
    "       'Effective School Leadership %',\n",
    "   'Strong Family-Community Ties %',\n",
    "    'Trust %'\n",
    "      ]]\n",
    "Y = d0[['Average ELA Proficiency',\n",
    "       'Average Math Proficiency']]\n",
    "print(X.shape, Y.shape)"
   ]
  },
  {
   "cell_type": "code",
   "execution_count": 6,
   "metadata": {},
   "outputs": [
    {
     "name": "stderr",
     "output_type": "stream",
     "text": [
      "/Library/Frameworks/Python.framework/Versions/3.7/lib/python3.7/site-packages/ipykernel_launcher.py:3: SettingWithCopyWarning: \n",
      "A value is trying to be set on a copy of a slice from a DataFrame.\n",
      "Try using .loc[row_indexer,col_indexer] = value instead\n",
      "\n",
      "See the caveats in the documentation: http://pandas.pydata.org/pandas-docs/stable/indexing.html#indexing-view-versus-copy\n",
      "  This is separate from the ipykernel package so we can avoid doing imports until\n",
      "/Library/Frameworks/Python.framework/Versions/3.7/lib/python3.7/site-packages/ipykernel_launcher.py:4: SettingWithCopyWarning: \n",
      "A value is trying to be set on a copy of a slice from a DataFrame.\n",
      "Try using .loc[row_indexer,col_indexer] = value instead\n",
      "\n",
      "See the caveats in the documentation: http://pandas.pydata.org/pandas-docs/stable/indexing.html#indexing-view-versus-copy\n",
      "  after removing the cwd from sys.path.\n"
     ]
    }
   ],
   "source": [
    "# Standardise the data\n",
    "for col in X.columns:\n",
    "    X[col] = X[col].str.strip('%')\n",
    "    X[col] = X[col].astype('float')\n",
    "\n",
    "from sklearn.preprocessing import StandardScaler\n",
    "sc = StandardScaler(with_mean=True, with_std=True)\n",
    "X_sc = sc.fit_transform(X)\n",
    "Y_sc = sc.fit_transform(Y)"
   ]
  },
  {
   "cell_type": "code",
   "execution_count": 12,
   "metadata": {},
   "outputs": [
    {
     "name": "stdout",
     "output_type": "stream",
     "text": [
      "Training CCA, kernel = None, regularization = 0.0000, 2 components\n",
      "Canonical Correlation Per Component Pair: [0.35586915 0.27781991]\n",
      "% Shared Variance: [0.12664285 0.0771839 ]\n"
     ]
    }
   ],
   "source": [
    "nComponents = 2 # min(p,q) components\n",
    "cca = rcca.CCA(kernelcca = False, reg = 0., numCC = nComponents,)\n",
    "# train on data\n",
    "cca.train([X, Y])\n",
    "print('Canonical Correlation Per Component Pair:',cca.cancorrs)\n",
    "print('% Shared Variance:',cca.cancorrs**2)\n"
   ]
  },
  {
   "cell_type": "markdown",
   "metadata": {},
   "source": [
    "We should take into account that it is not highly recommended to rely on weights when interpreting individual variable contribution to covariates.\n",
    "\n",
    "1. Weights are subject to variability from one sample to another.\n",
    "2. Weights can be highly affected by multicollinearity (which is quite common for same-context variable groups).\n",
    "\n",
    "Relying on canonical loadings instead is a more common practice.\n"
   ]
  },
  {
   "cell_type": "code",
   "execution_count": 16,
   "metadata": {},
   "outputs": [
    {
     "name": "stdout",
     "output_type": "stream",
     "text": [
      "Corr of CVX, Math Score: -0.3933845694445854\n",
      "Corr of CVX, ELA Score: -0.4323220140505672\n"
     ]
    }
   ],
   "source": [
    "## Canonical Loadings\n",
    "print('Corr of CVX, Math Score:',np.corrcoef(cca.comps[0][:,0],Y.values[:,0])[0,1])\n",
    "print('Corr of CVX, ELA Score:',np.corrcoef(cca.comps[0][:,0],Y.values[:,1])[0,1])\n"
   ]
  },
  {
   "cell_type": "code",
   "execution_count": 17,
   "metadata": {},
   "outputs": [
    {
     "data": {
      "text/plain": [
       "array([[ 1.        , -0.39338457],\n",
       "       [-0.39338457,  1.        ]])"
      ]
     },
     "execution_count": 17,
     "metadata": {},
     "output_type": "execute_result"
    }
   ],
   "source": [
    "np.corrcoef(cca.comps[0][:,0],Y.values[:,0])"
   ]
  },
  {
   "cell_type": "code",
   "execution_count": 9,
   "metadata": {},
   "outputs": [
    {
     "data": {
      "text/plain": [
       "array([-0.00760554, -0.01886755, -0.00862955, ..., -0.00883273,\n",
       "       -0.05742338, -0.02446945])"
      ]
     },
     "execution_count": 9,
     "metadata": {},
     "output_type": "execute_result"
    }
   ],
   "source": [
    "## Canonical Covariates\n",
    "\n",
    "# CVX \n",
    "cca.comps[0]\n",
    "# First CV for X \n",
    "cca.comps[0][:,0]\n",
    "# Second CV for X\n",
    "cca.comps[0][:,1]\n",
    "\n",
    "# CVY\n",
    "cca.comps[1]\n",
    "# First CV for Y\n",
    "cca.comps[1][:,0]\n",
    "# Second CV for Y \n",
    "cca.comps[1][:,1]"
   ]
  },
  {
   "cell_type": "code",
   "execution_count": null,
   "metadata": {},
   "outputs": [],
   "source": []
  }
 ],
 "metadata": {
  "kernelspec": {
   "display_name": "Python 3",
   "language": "python",
   "name": "python3"
  },
  "language_info": {
   "codemirror_mode": {
    "name": "ipython",
    "version": 3
   },
   "file_extension": ".py",
   "mimetype": "text/x-python",
   "name": "python",
   "nbconvert_exporter": "python",
   "pygments_lexer": "ipython3",
   "version": "3.7.1"
  }
 },
 "nbformat": 4,
 "nbformat_minor": 2
}
